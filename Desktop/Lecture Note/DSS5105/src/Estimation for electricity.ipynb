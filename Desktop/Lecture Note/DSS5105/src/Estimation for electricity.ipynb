{
 "cells": [
  {
   "cell_type": "code",
   "execution_count": 119,
   "metadata": {},
   "outputs": [],
   "source": [
    "import pandas as pd\n",
    "import numpy as np\n",
    "from sklearn.model_selection import train_test_split, cross_val_score\n",
    "from sklearn.ensemble import RandomForestRegressor\n",
    "from sklearn.metrics import mean_squared_error\n",
    "from sklearn.metrics import r2_score"
   ]
  },
  {
   "cell_type": "markdown",
   "metadata": {},
   "source": [
    "**Date preprocessing**"
   ]
  },
  {
   "cell_type": "code",
   "execution_count": 120,
   "metadata": {},
   "outputs": [
    {
     "data": {
      "text/html": [
       "<div>\n",
       "<style scoped>\n",
       "    .dataframe tbody tr th:only-of-type {\n",
       "        vertical-align: middle;\n",
       "    }\n",
       "\n",
       "    .dataframe tbody tr th {\n",
       "        vertical-align: top;\n",
       "    }\n",
       "\n",
       "    .dataframe thead th {\n",
       "        text-align: right;\n",
       "    }\n",
       "</style>\n",
       "<table border=\"1\" class=\"dataframe\">\n",
       "  <thead>\n",
       "    <tr style=\"text-align: right;\">\n",
       "      <th></th>\n",
       "      <th>main function</th>\n",
       "      <th>size</th>\n",
       "      <th>beginning year</th>\n",
       "      <th>green mark rating</th>\n",
       "      <th>green mark year</th>\n",
       "      <th>green mark type</th>\n",
       "      <th>GFA</th>\n",
       "      <th>AC percent</th>\n",
       "      <th>monthly occupation rate</th>\n",
       "      <th>number of hotel rooms</th>\n",
       "      <th>AC type</th>\n",
       "      <th>age of chiller</th>\n",
       "      <th>AC efficiency</th>\n",
       "      <th>last chiller check year</th>\n",
       "      <th>LED percent</th>\n",
       "      <th>Use of PV</th>\n",
       "      <th>2017EUI</th>\n",
       "      <th>2018EUI</th>\n",
       "      <th>2019EUI</th>\n",
       "      <th>2020EUI</th>\n",
       "    </tr>\n",
       "  </thead>\n",
       "  <tbody>\n",
       "    <tr>\n",
       "      <th>0</th>\n",
       "      <td>Mixed Development</td>\n",
       "      <td>Large</td>\n",
       "      <td>1984.0</td>\n",
       "      <td>NaN</td>\n",
       "      <td>NaN</td>\n",
       "      <td>NaN</td>\n",
       "      <td>65947.0</td>\n",
       "      <td>0.933522</td>\n",
       "      <td>0.90</td>\n",
       "      <td>NaN</td>\n",
       "      <td>Water Cooled Chilled Water Plant</td>\n",
       "      <td>12.0</td>\n",
       "      <td>0.68</td>\n",
       "      <td>2019.0</td>\n",
       "      <td>0.02</td>\n",
       "      <td>N</td>\n",
       "      <td>281.317739</td>\n",
       "      <td>276.826820</td>\n",
       "      <td>274.907289</td>\n",
       "      <td>250.885469</td>\n",
       "    </tr>\n",
       "    <tr>\n",
       "      <th>1</th>\n",
       "      <td>Office</td>\n",
       "      <td>Small</td>\n",
       "      <td>1980.0</td>\n",
       "      <td>NaN</td>\n",
       "      <td>NaN</td>\n",
       "      <td>NaN</td>\n",
       "      <td>7372.0</td>\n",
       "      <td>0.971649</td>\n",
       "      <td>0.90</td>\n",
       "      <td>NaN</td>\n",
       "      <td>Others</td>\n",
       "      <td>2.0</td>\n",
       "      <td>NaN</td>\n",
       "      <td>NaN</td>\n",
       "      <td>0.80</td>\n",
       "      <td>N</td>\n",
       "      <td>277.933550</td>\n",
       "      <td>268.761485</td>\n",
       "      <td>264.791593</td>\n",
       "      <td>216.265853</td>\n",
       "    </tr>\n",
       "    <tr>\n",
       "      <th>2</th>\n",
       "      <td>Office</td>\n",
       "      <td>Small</td>\n",
       "      <td>2011.0</td>\n",
       "      <td>GoldPlus</td>\n",
       "      <td>2010.0</td>\n",
       "      <td>New Building for Non-Residential buildings (ve...</td>\n",
       "      <td>5030.0</td>\n",
       "      <td>0.800000</td>\n",
       "      <td>0.97</td>\n",
       "      <td>NaN</td>\n",
       "      <td>Others</td>\n",
       "      <td>9.0</td>\n",
       "      <td>NaN</td>\n",
       "      <td>NaN</td>\n",
       "      <td>0.20</td>\n",
       "      <td>N</td>\n",
       "      <td>171.157336</td>\n",
       "      <td>165.324839</td>\n",
       "      <td>165.521763</td>\n",
       "      <td>115.423857</td>\n",
       "    </tr>\n",
       "    <tr>\n",
       "      <th>3</th>\n",
       "      <td>Office</td>\n",
       "      <td>Small</td>\n",
       "      <td>1993.0</td>\n",
       "      <td>NaN</td>\n",
       "      <td>NaN</td>\n",
       "      <td>NaN</td>\n",
       "      <td>5824.0</td>\n",
       "      <td>0.698832</td>\n",
       "      <td>0.58</td>\n",
       "      <td>NaN</td>\n",
       "      <td>Others</td>\n",
       "      <td>0.0</td>\n",
       "      <td>NaN</td>\n",
       "      <td>NaN</td>\n",
       "      <td>0.30</td>\n",
       "      <td>N</td>\n",
       "      <td>185.643383</td>\n",
       "      <td>168.496305</td>\n",
       "      <td>163.463887</td>\n",
       "      <td>138.010889</td>\n",
       "    </tr>\n",
       "    <tr>\n",
       "      <th>4</th>\n",
       "      <td>Office</td>\n",
       "      <td>Small</td>\n",
       "      <td>1975.0</td>\n",
       "      <td>NaN</td>\n",
       "      <td>NaN</td>\n",
       "      <td>NaN</td>\n",
       "      <td>10418.0</td>\n",
       "      <td>1.000000</td>\n",
       "      <td>0.90</td>\n",
       "      <td>NaN</td>\n",
       "      <td>Water Cooled Chilled Water Plant</td>\n",
       "      <td>38.0</td>\n",
       "      <td>0.80</td>\n",
       "      <td>2020.0</td>\n",
       "      <td>0.90</td>\n",
       "      <td>N</td>\n",
       "      <td>158.369276</td>\n",
       "      <td>140.951747</td>\n",
       "      <td>149.118707</td>\n",
       "      <td>129.538426</td>\n",
       "    </tr>\n",
       "  </tbody>\n",
       "</table>\n",
       "</div>"
      ],
      "text/plain": [
       "       main function   size  beginning year green mark rating  \\\n",
       "0  Mixed Development  Large          1984.0               NaN   \n",
       "1             Office  Small          1980.0               NaN   \n",
       "2             Office  Small          2011.0          GoldPlus   \n",
       "3             Office  Small          1993.0               NaN   \n",
       "4             Office  Small          1975.0               NaN   \n",
       "\n",
       "   green mark year                                    green mark type  \\\n",
       "0              NaN                                                NaN   \n",
       "1              NaN                                                NaN   \n",
       "2           2010.0  New Building for Non-Residential buildings (ve...   \n",
       "3              NaN                                                NaN   \n",
       "4              NaN                                                NaN   \n",
       "\n",
       "       GFA  AC percent  monthly occupation rate  number of hotel rooms  \\\n",
       "0  65947.0    0.933522                     0.90                    NaN   \n",
       "1   7372.0    0.971649                     0.90                    NaN   \n",
       "2   5030.0    0.800000                     0.97                    NaN   \n",
       "3   5824.0    0.698832                     0.58                    NaN   \n",
       "4  10418.0    1.000000                     0.90                    NaN   \n",
       "\n",
       "                            AC type  age of chiller  AC efficiency  \\\n",
       "0  Water Cooled Chilled Water Plant            12.0           0.68   \n",
       "1                            Others             2.0            NaN   \n",
       "2                            Others             9.0            NaN   \n",
       "3                            Others             0.0            NaN   \n",
       "4  Water Cooled Chilled Water Plant            38.0           0.80   \n",
       "\n",
       "   last chiller check year  LED percent Use of PV     2017EUI     2018EUI  \\\n",
       "0                   2019.0         0.02         N  281.317739  276.826820   \n",
       "1                      NaN         0.80         N  277.933550  268.761485   \n",
       "2                      NaN         0.20         N  171.157336  165.324839   \n",
       "3                      NaN         0.30         N  185.643383  168.496305   \n",
       "4                   2020.0         0.90         N  158.369276  140.951747   \n",
       "\n",
       "      2019EUI     2020EUI  \n",
       "0  274.907289  250.885469  \n",
       "1  264.791593  216.265853  \n",
       "2  165.521763  115.423857  \n",
       "3  163.463887  138.010889  \n",
       "4  149.118707  129.538426  "
      ]
     },
     "execution_count": 120,
     "metadata": {},
     "output_type": "execute_result"
    }
   ],
   "source": [
    "df = pd.read_excel('../data/Listing of Building Energy Performance Data for 2020.xlsx').iloc[:,3:] # Delete the first three columns about name and address of the building\n",
    "df.columns = ['main function','size','beginning year','green mark rating','green mark year',\n",
    "                'green mark type','GFA','AC percent','monthly occupation rate','number of hotel rooms',\n",
    "                'AC type','age of chiller','AC efficiency','last chiller check year','LED percent',\n",
    "                'Use of PV','2017EUI','2018EUI','2019EUI','2020EUI']\n",
    "df.head()\n",
    "# df.shape # (566,20)"
   ]
  },
  {
   "cell_type": "code",
   "execution_count": 121,
   "metadata": {},
   "outputs": [
    {
     "data": {
      "text/plain": [
       "main function                2\n",
       "size                         3\n",
       "beginning year               2\n",
       "green mark rating          249\n",
       "green mark year            249\n",
       "green mark type            271\n",
       "GFA                          2\n",
       "AC percent                   2\n",
       "monthly occupation rate      2\n",
       "number of hotel rooms      443\n",
       "AC type                      2\n",
       "age of chiller               4\n",
       "AC efficiency              279\n",
       "last chiller check year    304\n",
       "LED percent                  2\n",
       "Use of PV                    2\n",
       "2017EUI                     25\n",
       "2018EUI                     16\n",
       "2019EUI                      9\n",
       "2020EUI                      2\n",
       "dtype: int64"
      ]
     },
     "execution_count": 121,
     "metadata": {},
     "output_type": "execute_result"
    }
   ],
   "source": [
    "# Checking missing values\n",
    "df.isna().sum()"
   ]
  },
  {
   "cell_type": "code",
   "execution_count": 122,
   "metadata": {},
   "outputs": [
    {
     "data": {
      "text/plain": [
       "main function                0\n",
       "size                         1\n",
       "beginning year               0\n",
       "green mark rating          247\n",
       "green mark year            247\n",
       "green mark type            269\n",
       "GFA                          0\n",
       "AC percent                   0\n",
       "monthly occupation rate      0\n",
       "number of hotel rooms      441\n",
       "AC type                      0\n",
       "age of chiller               2\n",
       "AC efficiency              277\n",
       "last chiller check year    302\n",
       "LED percent                  0\n",
       "Use of PV                    0\n",
       "2017EUI                     23\n",
       "2018EUI                     14\n",
       "2019EUI                      7\n",
       "2020EUI                      0\n",
       "dtype: int64"
      ]
     },
     "execution_count": 122,
     "metadata": {},
     "output_type": "execute_result"
    }
   ],
   "source": [
    "df2 = df.copy()\n",
    "df2.dropna(subset=['main function'], inplace=True)\n",
    "df2.isna().sum()"
   ]
  },
  {
   "cell_type": "code",
   "execution_count": 123,
   "metadata": {},
   "outputs": [
    {
     "data": {
      "text/plain": [
       "size\n",
       "1    376\n",
       "0    188\n",
       "Name: count, dtype: int64"
      ]
     },
     "execution_count": 123,
     "metadata": {},
     "output_type": "execute_result"
    }
   ],
   "source": [
    "# df2[df2['size].isna()] # Main function and GFA of the building are known, try to change the value based on the rule\n",
    "## Large Size Commercial Buildings: \n",
    "# i) Hotel - GFA ≥ 7,000 m²\n",
    "# ii) Office; Hotel; Retail - GFA ≥ 15,000 m²\n",
    "# Small Size Commercial Buildings: \n",
    "# i) Hotel - GFA < 7,000 m²\n",
    "# ii) Office; Hotel; Retail - GFA < 15,000 m²\n",
    "## Encoding 'lagre' as 1 and 'small' as 0\n",
    "def size_category(row):\n",
    "    if row['main function'] == 'Hotel':\n",
    "        return 1 if row['GFA'] >= 7000 else 0\n",
    "    else:\n",
    "        return 1 if row['GFA'] >= 15000 else 0\n",
    "df2['size']= df2.apply(size_category,axis=1)\n",
    "df2['size'].value_counts()"
   ]
  },
  {
   "cell_type": "code",
   "execution_count": 124,
   "metadata": {},
   "outputs": [
    {
     "data": {
      "text/plain": [
       "(564, 20)"
      ]
     },
     "execution_count": 124,
     "metadata": {},
     "output_type": "execute_result"
    }
   ],
   "source": [
    "df2.shape"
   ]
  },
  {
   "cell_type": "code",
   "execution_count": 125,
   "metadata": {},
   "outputs": [
    {
     "data": {
      "text/plain": [
       "main function                0\n",
       "size                         0\n",
       "beginning year               0\n",
       "green mark rating          247\n",
       "green mark year            247\n",
       "green mark type            269\n",
       "GFA                          0\n",
       "AC percent                   0\n",
       "monthly occupation rate      0\n",
       "number of hotel rooms      441\n",
       "AC type                      0\n",
       "age of chiller               2\n",
       "AC efficiency              277\n",
       "last chiller check year    302\n",
       "LED percent                  0\n",
       "Use of PV                    0\n",
       "2017EUI                     23\n",
       "2018EUI                     14\n",
       "2019EUI                      7\n",
       "2020EUI                      0\n",
       "dtype: int64"
      ]
     },
     "execution_count": 125,
     "metadata": {},
     "output_type": "execute_result"
    }
   ],
   "source": [
    "df2.isna().sum()"
   ]
  },
  {
   "cell_type": "code",
   "execution_count": 126,
   "metadata": {},
   "outputs": [
    {
     "data": {
      "text/plain": [
       "size                                                                               0\n",
       "beginning year                                                                     0\n",
       "GFA                                                                                0\n",
       "AC percent                                                                         0\n",
       "monthly occupation rate                                                            0\n",
       "number of hotel rooms                                                              0\n",
       "AC type                                                                            0\n",
       "age of chiller                                                                     2\n",
       "AC efficiency                                                                    277\n",
       "LED percent                                                                        0\n",
       "Use of PV                                                                          0\n",
       "2017EUI                                                                           23\n",
       "2018EUI                                                                           14\n",
       "2019EUI                                                                            7\n",
       "2020EUI                                                                            0\n",
       "main function_Hotel                                                                0\n",
       "main function_Mixed Development                                                    0\n",
       "main function_Office                                                               0\n",
       "main function_Retail                                                               0\n",
       "green mark rating_Certified                                                        0\n",
       "green mark rating_Gold                                                             0\n",
       "green mark rating_GoldPlus                                                         0\n",
       "green mark rating_Legislated                                                       0\n",
       "green mark rating_Platinum                                                         0\n",
       "green mark rating_Unknown                                                          0\n",
       "green mark type_Existing Building (version 2)                                      0\n",
       "green mark type_Existing Building for Non-Residential buildings (version 2.1)      0\n",
       "green mark type_Existing Building for Non-Residential buildings (version 3)        0\n",
       "green mark type_Existing Non-Residental Buildings ENRB: 2017                       0\n",
       "green mark type_New Building (version 1)                                           0\n",
       "green mark type_New Building for A/C buildings (version 2)                         0\n",
       "green mark type_New Building for Non-Residential buildings (version 3)             0\n",
       "green mark type_New Building for Non-Residential buildings (version 4)             0\n",
       "green mark type_New Building for Non-Residential buildings (version 4.1)           0\n",
       "green mark type_Non-Residential Buildings NRB: 2015                                0\n",
       "dtype: int64"
      ]
     },
     "execution_count": 126,
     "metadata": {},
     "output_type": "execute_result"
    }
   ],
   "source": [
    "# df['green mark rating'].value_counts() # Platinum, 126; Gold, 83; GoldPlus, 60; Certified, 26; Legislated, 22\n",
    "df2 = pd.get_dummies(df2, columns=['main function'])\n",
    "df2['green mark rating'] = df2['green mark rating'].fillna('Unknown')\n",
    "df2 = pd.get_dummies(df2, columns=['green mark rating','green mark type'])\n",
    "del df2['green mark year']\n",
    "df2['number of hotel rooms'] = df2['number of hotel rooms'].fillna(0)\n",
    "del df2['last chiller check year']\n",
    "df2['Use of PV'] = df2['Use of PV'].map({'Y': 1, 'N': 0})\n",
    "df2.isna().sum()"
   ]
  },
  {
   "cell_type": "code",
   "execution_count": 127,
   "metadata": {},
   "outputs": [
    {
     "data": {
      "text/plain": [
       "AC type\n",
       "Others                              130\n",
       "Water Cooled Chilled Water Plant     94\n",
       "District Cooling Plant               25\n",
       "Air Cooled Chilled Water Plant       15\n",
       "Water Cooled Packaged Unit           12\n",
       "Name: count, dtype: int64"
      ]
     },
     "execution_count": 127,
     "metadata": {},
     "output_type": "execute_result"
    }
   ],
   "source": [
    "df2.dropna(subset=['age of chiller'], inplace=True)\n",
    "df2[df2['AC efficiency'].isna()]['AC type'].value_counts()"
   ]
  },
  {
   "cell_type": "code",
   "execution_count": 128,
   "metadata": {},
   "outputs": [
    {
     "data": {
      "text/plain": [
       "size                                                                              0\n",
       "beginning year                                                                    0\n",
       "GFA                                                                               0\n",
       "AC percent                                                                        0\n",
       "monthly occupation rate                                                           0\n",
       "number of hotel rooms                                                             0\n",
       "age of chiller                                                                    0\n",
       "AC efficiency                                                                     0\n",
       "LED percent                                                                       0\n",
       "Use of PV                                                                         0\n",
       "2017EUI                                                                          23\n",
       "2018EUI                                                                          14\n",
       "2019EUI                                                                           7\n",
       "2020EUI                                                                           0\n",
       "main function_Hotel                                                               0\n",
       "main function_Mixed Development                                                   0\n",
       "main function_Office                                                              0\n",
       "main function_Retail                                                              0\n",
       "green mark rating_Certified                                                       0\n",
       "green mark rating_Gold                                                            0\n",
       "green mark rating_GoldPlus                                                        0\n",
       "green mark rating_Legislated                                                      0\n",
       "green mark rating_Platinum                                                        0\n",
       "green mark rating_Unknown                                                         0\n",
       "green mark type_Existing Building (version 2)                                     0\n",
       "green mark type_Existing Building for Non-Residential buildings (version 2.1)     0\n",
       "green mark type_Existing Building for Non-Residential buildings (version 3)       0\n",
       "green mark type_Existing Non-Residental Buildings ENRB: 2017                      0\n",
       "green mark type_New Building (version 1)                                          0\n",
       "green mark type_New Building for A/C buildings (version 2)                        0\n",
       "green mark type_New Building for Non-Residential buildings (version 3)            0\n",
       "green mark type_New Building for Non-Residential buildings (version 4)            0\n",
       "green mark type_New Building for Non-Residential buildings (version 4.1)          0\n",
       "green mark type_Non-Residential Buildings NRB: 2015                               0\n",
       "AC type_Air Cooled Chilled Water Plant                                            0\n",
       "AC type_District Cooling Plant                                                    0\n",
       "AC type_Others                                                                    0\n",
       "AC type_Water Cooled Chilled Water Plant                                          0\n",
       "AC type_Water Cooled Packaged Unit                                                0\n",
       "dtype: int64"
      ]
     },
     "execution_count": 128,
     "metadata": {},
     "output_type": "execute_result"
    }
   ],
   "source": [
    "df2['AC efficiency'] = df2['AC efficiency'].fillna(df2.groupby('AC type')['AC efficiency'].transform('mean'))\n",
    "df2 = pd.get_dummies(df2, columns=['AC type'])\n",
    "df2.isna().sum()"
   ]
  },
  {
   "cell_type": "markdown",
   "metadata": {},
   "source": [
    "**Model Construction**"
   ]
  },
  {
   "cell_type": "code",
   "execution_count": 139,
   "metadata": {},
   "outputs": [
    {
     "name": "stdout",
     "output_type": "stream",
     "text": [
      "MSE: 33107.8184331316\n",
      "MSE: 22492.67058558406\n",
      "r2:0.12915231537383343\n"
     ]
    }
   ],
   "source": [
    "X = df2.drop(['2017EUI','2018EUI','2019EUI','2020EUI'],axis=1)\n",
    "y = df2['2020EUI']\n",
    "\n",
    "X_train, X_test, y_train, y_test = train_test_split(X, y, test_size=0.2, random_state=42)\n",
    "\n",
    "rf_model = RandomForestRegressor(n_estimators=100, random_state=42)\n",
    "\n",
    "cv_scores = cross_val_score(rf_model, X_train, y_train, cv=5, scoring='neg_mean_squared_error')\n",
    "\n",
    "cv_mse = -cv_scores.mean()\n",
    "print(f\"MSE: {cv_mse}\")\n",
    "\n",
    "rf_model.fit(X_train, y_train)\n",
    "\n",
    "y_pred = rf_model.predict(X_test)\n",
    "\n",
    "mse = mean_squared_error(y_test, y_pred)\n",
    "print(f\"MSE: {mse}\")\n",
    "\n",
    "r2 = r2_score(y_test, y_pred)\n",
    "print(f\"r2:{r2}\")"
   ]
  },
  {
   "cell_type": "code",
   "execution_count": 140,
   "metadata": {},
   "outputs": [
    {
     "name": "stdout",
     "output_type": "stream",
     "text": [
      "MSE: 85363892597900.7\n",
      "MSE: 43315771439187.08\n",
      "r2:0.7298225480367319\n"
     ]
    }
   ],
   "source": [
    "X = df2.drop(['2017EUI','2018EUI','2019EUI','2020EUI'],axis=1)\n",
    "y = df2['2020EUI']*df2['GFA']\n",
    "\n",
    "X_train, X_test, y_train, y_test = train_test_split(X, y, test_size=0.2, random_state=42)\n",
    "\n",
    "rf_model = RandomForestRegressor(n_estimators=100, random_state=42)\n",
    "\n",
    "cv_scores = cross_val_score(rf_model, X_train, y_train, cv=5, scoring='neg_mean_squared_error')\n",
    "\n",
    "cv_mse = -cv_scores.mean()\n",
    "print(f\"MSE: {cv_mse}\")\n",
    "\n",
    "rf_model.fit(X_train, y_train)\n",
    "\n",
    "y_pred = rf_model.predict(X_test)\n",
    "\n",
    "mse = mean_squared_error(y_test, y_pred)\n",
    "print(f\"MSE: {mse}\")\n",
    "\n",
    "r2 = r2_score(y_test, y_pred)\n",
    "print(f\"r2:{r2}\")"
   ]
  },
  {
   "cell_type": "code",
   "execution_count": 137,
   "metadata": {},
   "outputs": [
    {
     "name": "stdout",
     "output_type": "stream",
     "text": [
      "MSE: 31992.875091558242\n",
      "MSE: 28533.387517661333\n",
      "r2:0.09859612133727458\n"
     ]
    }
   ],
   "source": [
    "from imblearn.over_sampling import SMOTE\n",
    "\n",
    "# 假设只对类别和二进制特征进行增强\n",
    "X = df.drop(columns=['2020EUI'])  # 将目标列去掉\n",
    "y = df['2020EUI']  # 假设 2020EUI 是一个标签列，用于分类\n",
    "\n",
    "smote = SMOTE()\n",
    "X_resampled, y_resampled = smote.fit_resample(X, y)\n",
    "\n",
    "# 生成新的DataFrame\n",
    "df_resampled = pd.DataFrame(X_resampled, columns=X.columns)\n",
    "df_resampled['2020EUI'] = y_resampled\n",
    "df_resampled.to_csv('synthetic_data.csv', index=False)"
   ]
  },
  {
   "cell_type": "code",
   "execution_count": 132,
   "metadata": {},
   "outputs": [],
   "source": [
    "df2.to_csv('df2.csv',index=False)"
   ]
  },
  {
   "cell_type": "markdown",
   "metadata": {},
   "source": [
    "**Synthesize Data**"
   ]
  },
  {
   "cell_type": "code",
   "execution_count": 147,
   "metadata": {},
   "outputs": [
    {
     "ename": "RuntimeError",
     "evalue": "all elements of input should be between 0 and 1",
     "output_type": "error",
     "traceback": [
      "\u001b[1;31m---------------------------------------------------------------------------\u001b[0m",
      "\u001b[1;31mRuntimeError\u001b[0m                              Traceback (most recent call last)",
      "Cell \u001b[1;32mIn[147], line 66\u001b[0m\n\u001b[0;32m     64\u001b[0m \u001b[38;5;66;03m# 判别器的损失\u001b[39;00m\n\u001b[0;32m     65\u001b[0m outputs \u001b[38;5;241m=\u001b[39m discriminator(real_data)\n\u001b[1;32m---> 66\u001b[0m d_loss_real \u001b[38;5;241m=\u001b[39m \u001b[43mcriterion\u001b[49m\u001b[43m(\u001b[49m\u001b[43moutputs\u001b[49m\u001b[43m,\u001b[49m\u001b[43m \u001b[49m\u001b[43mreal_labels\u001b[49m\u001b[43m)\u001b[49m\n\u001b[0;32m     67\u001b[0m outputs \u001b[38;5;241m=\u001b[39m discriminator(fake_data\u001b[38;5;241m.\u001b[39mdetach())\n\u001b[0;32m     68\u001b[0m d_loss_fake \u001b[38;5;241m=\u001b[39m criterion(outputs, fake_labels)\n",
      "File \u001b[1;32m~\\AppData\\Roaming\\Python\\Python312\\site-packages\\torch\\nn\\modules\\module.py:1736\u001b[0m, in \u001b[0;36mModule._wrapped_call_impl\u001b[1;34m(self, *args, **kwargs)\u001b[0m\n\u001b[0;32m   1734\u001b[0m     \u001b[38;5;28;01mreturn\u001b[39;00m \u001b[38;5;28mself\u001b[39m\u001b[38;5;241m.\u001b[39m_compiled_call_impl(\u001b[38;5;241m*\u001b[39margs, \u001b[38;5;241m*\u001b[39m\u001b[38;5;241m*\u001b[39mkwargs)  \u001b[38;5;66;03m# type: ignore[misc]\u001b[39;00m\n\u001b[0;32m   1735\u001b[0m \u001b[38;5;28;01melse\u001b[39;00m:\n\u001b[1;32m-> 1736\u001b[0m     \u001b[38;5;28;01mreturn\u001b[39;00m \u001b[38;5;28;43mself\u001b[39;49m\u001b[38;5;241;43m.\u001b[39;49m\u001b[43m_call_impl\u001b[49m\u001b[43m(\u001b[49m\u001b[38;5;241;43m*\u001b[39;49m\u001b[43margs\u001b[49m\u001b[43m,\u001b[49m\u001b[43m \u001b[49m\u001b[38;5;241;43m*\u001b[39;49m\u001b[38;5;241;43m*\u001b[39;49m\u001b[43mkwargs\u001b[49m\u001b[43m)\u001b[49m\n",
      "File \u001b[1;32m~\\AppData\\Roaming\\Python\\Python312\\site-packages\\torch\\nn\\modules\\module.py:1747\u001b[0m, in \u001b[0;36mModule._call_impl\u001b[1;34m(self, *args, **kwargs)\u001b[0m\n\u001b[0;32m   1742\u001b[0m \u001b[38;5;66;03m# If we don't have any hooks, we want to skip the rest of the logic in\u001b[39;00m\n\u001b[0;32m   1743\u001b[0m \u001b[38;5;66;03m# this function, and just call forward.\u001b[39;00m\n\u001b[0;32m   1744\u001b[0m \u001b[38;5;28;01mif\u001b[39;00m \u001b[38;5;129;01mnot\u001b[39;00m (\u001b[38;5;28mself\u001b[39m\u001b[38;5;241m.\u001b[39m_backward_hooks \u001b[38;5;129;01mor\u001b[39;00m \u001b[38;5;28mself\u001b[39m\u001b[38;5;241m.\u001b[39m_backward_pre_hooks \u001b[38;5;129;01mor\u001b[39;00m \u001b[38;5;28mself\u001b[39m\u001b[38;5;241m.\u001b[39m_forward_hooks \u001b[38;5;129;01mor\u001b[39;00m \u001b[38;5;28mself\u001b[39m\u001b[38;5;241m.\u001b[39m_forward_pre_hooks\n\u001b[0;32m   1745\u001b[0m         \u001b[38;5;129;01mor\u001b[39;00m _global_backward_pre_hooks \u001b[38;5;129;01mor\u001b[39;00m _global_backward_hooks\n\u001b[0;32m   1746\u001b[0m         \u001b[38;5;129;01mor\u001b[39;00m _global_forward_hooks \u001b[38;5;129;01mor\u001b[39;00m _global_forward_pre_hooks):\n\u001b[1;32m-> 1747\u001b[0m     \u001b[38;5;28;01mreturn\u001b[39;00m \u001b[43mforward_call\u001b[49m\u001b[43m(\u001b[49m\u001b[38;5;241;43m*\u001b[39;49m\u001b[43margs\u001b[49m\u001b[43m,\u001b[49m\u001b[43m \u001b[49m\u001b[38;5;241;43m*\u001b[39;49m\u001b[38;5;241;43m*\u001b[39;49m\u001b[43mkwargs\u001b[49m\u001b[43m)\u001b[49m\n\u001b[0;32m   1749\u001b[0m result \u001b[38;5;241m=\u001b[39m \u001b[38;5;28;01mNone\u001b[39;00m\n\u001b[0;32m   1750\u001b[0m called_always_called_hooks \u001b[38;5;241m=\u001b[39m \u001b[38;5;28mset\u001b[39m()\n",
      "File \u001b[1;32m~\\AppData\\Roaming\\Python\\Python312\\site-packages\\torch\\nn\\modules\\loss.py:697\u001b[0m, in \u001b[0;36mBCELoss.forward\u001b[1;34m(self, input, target)\u001b[0m\n\u001b[0;32m    696\u001b[0m \u001b[38;5;28;01mdef\u001b[39;00m \u001b[38;5;21mforward\u001b[39m(\u001b[38;5;28mself\u001b[39m, \u001b[38;5;28minput\u001b[39m: Tensor, target: Tensor) \u001b[38;5;241m-\u001b[39m\u001b[38;5;241m>\u001b[39m Tensor:\n\u001b[1;32m--> 697\u001b[0m     \u001b[38;5;28;01mreturn\u001b[39;00m \u001b[43mF\u001b[49m\u001b[38;5;241;43m.\u001b[39;49m\u001b[43mbinary_cross_entropy\u001b[49m\u001b[43m(\u001b[49m\n\u001b[0;32m    698\u001b[0m \u001b[43m        \u001b[49m\u001b[38;5;28;43minput\u001b[39;49m\u001b[43m,\u001b[49m\u001b[43m \u001b[49m\u001b[43mtarget\u001b[49m\u001b[43m,\u001b[49m\u001b[43m \u001b[49m\u001b[43mweight\u001b[49m\u001b[38;5;241;43m=\u001b[39;49m\u001b[38;5;28;43mself\u001b[39;49m\u001b[38;5;241;43m.\u001b[39;49m\u001b[43mweight\u001b[49m\u001b[43m,\u001b[49m\u001b[43m \u001b[49m\u001b[43mreduction\u001b[49m\u001b[38;5;241;43m=\u001b[39;49m\u001b[38;5;28;43mself\u001b[39;49m\u001b[38;5;241;43m.\u001b[39;49m\u001b[43mreduction\u001b[49m\n\u001b[0;32m    699\u001b[0m \u001b[43m    \u001b[49m\u001b[43m)\u001b[49m\n",
      "File \u001b[1;32m~\\AppData\\Roaming\\Python\\Python312\\site-packages\\torch\\nn\\functional.py:3554\u001b[0m, in \u001b[0;36mbinary_cross_entropy\u001b[1;34m(input, target, weight, size_average, reduce, reduction)\u001b[0m\n\u001b[0;32m   3551\u001b[0m     new_size \u001b[38;5;241m=\u001b[39m _infer_size(target\u001b[38;5;241m.\u001b[39msize(), weight\u001b[38;5;241m.\u001b[39msize())\n\u001b[0;32m   3552\u001b[0m     weight \u001b[38;5;241m=\u001b[39m weight\u001b[38;5;241m.\u001b[39mexpand(new_size)\n\u001b[1;32m-> 3554\u001b[0m \u001b[38;5;28;01mreturn\u001b[39;00m \u001b[43mtorch\u001b[49m\u001b[38;5;241;43m.\u001b[39;49m\u001b[43m_C\u001b[49m\u001b[38;5;241;43m.\u001b[39;49m\u001b[43m_nn\u001b[49m\u001b[38;5;241;43m.\u001b[39;49m\u001b[43mbinary_cross_entropy\u001b[49m\u001b[43m(\u001b[49m\u001b[38;5;28;43minput\u001b[39;49m\u001b[43m,\u001b[49m\u001b[43m \u001b[49m\u001b[43mtarget\u001b[49m\u001b[43m,\u001b[49m\u001b[43m \u001b[49m\u001b[43mweight\u001b[49m\u001b[43m,\u001b[49m\u001b[43m \u001b[49m\u001b[43mreduction_enum\u001b[49m\u001b[43m)\u001b[49m\n",
      "\u001b[1;31mRuntimeError\u001b[0m: all elements of input should be between 0 and 1"
     ]
    }
   ],
   "source": [
    "import torch\n",
    "import torch.nn as nn\n",
    "\n",
    "\n",
    "# 假设现有数据集 df\n",
    "data = df3.values  # 转换为 numpy array 格式\n",
    "\n",
    "# 定义生成器\n",
    "class Generator(nn.Module):\n",
    "    def __init__(self, input_dim, output_dim):\n",
    "        super(Generator, self).__init__()\n",
    "        self.model = nn.Sequential(\n",
    "            nn.Linear(input_dim, 128),\n",
    "            nn.ReLU(),\n",
    "            nn.Linear(128, 256),\n",
    "            nn.ReLU(),\n",
    "            nn.Linear(256, output_dim)\n",
    "        )\n",
    "\n",
    "    def forward(self, x):\n",
    "        return self.model(x)\n",
    "\n",
    "# 定义判别器\n",
    "class Discriminator(nn.Module):\n",
    "    def __init__(self, input_dim):\n",
    "        super(Discriminator, self).__init__()\n",
    "        self.model = nn.Sequential(\n",
    "            nn.Linear(input_dim, 256),\n",
    "            nn.LeakyReLU(0.2),\n",
    "            nn.Linear(256, 128),\n",
    "            nn.LeakyReLU(0.2),\n",
    "            nn.Linear(128, 1),\n",
    "            nn.Sigmoid()\n",
    "        )\n",
    "\n",
    "    def forward(self, x):\n",
    "        return self.model(x)\n",
    "\n",
    "# 参数设置\n",
    "input_dim = 10  # 随机噪声的维度，可以根据需求调整\n",
    "output_dim = data.shape[1]  # 输出维度与数据特征维度相同\n",
    "num_epochs = 10000\n",
    "batch_size = 64\n",
    "learning_rate = 0.0002\n",
    "\n",
    "# 初始化生成器和判别器\n",
    "generator = Generator(input_dim=input_dim, output_dim=output_dim)\n",
    "discriminator = Discriminator(input_dim=output_dim)\n",
    "\n",
    "# 定义损失函数和优化器\n",
    "criterion = nn.BCELoss()\n",
    "optimizer_G = torch.optim.Adam(generator.parameters(), lr=learning_rate)\n",
    "optimizer_D = torch.optim.Adam(discriminator.parameters(), lr=learning_rate)\n",
    "\n",
    "# 开始训练\n",
    "for epoch in range(num_epochs):\n",
    "    # 训练判别器\n",
    "    real_data = torch.tensor(data[np.random.randint(0, data.shape[0], batch_size)], dtype=torch.float32)\n",
    "    fake_data = generator(torch.randn(batch_size, input_dim))\n",
    "\n",
    "    real_labels = torch.ones(batch_size, 1)\n",
    "    fake_labels = torch.zeros(batch_size, 1)\n",
    "\n",
    "    # 判别器的损失\n",
    "    outputs = discriminator(real_data)\n",
    "    d_loss_real = criterion(outputs, real_labels)\n",
    "    outputs = discriminator(fake_data.detach())\n",
    "    d_loss_fake = criterion(outputs, fake_labels)\n",
    "    d_loss = d_loss_real + d_loss_fake\n",
    "\n",
    "    optimizer_D.zero_grad()\n",
    "    d_loss.backward()\n",
    "    optimizer_D.step()\n",
    "\n",
    "    # 训练生成器\n",
    "    fake_data = generator(torch.randn(batch_size, input_dim))\n",
    "    outputs = discriminator(fake_data)\n",
    "    g_loss = criterion(outputs, real_labels)\n",
    "\n",
    "    optimizer_G.zero_grad()\n",
    "    g_loss.backward()\n",
    "    optimizer_G.step()\n",
    "\n",
    "    # 打印损失\n",
    "    if epoch % 1000 == 0:\n",
    "        print(f\"Epoch [{epoch}/{num_epochs}], d_loss: {d_loss.item()}, g_loss: {g_loss.item()}\")\n",
    "\n",
    "# 生成新的合成数据\n",
    "num_samples = 100  # 想生成的数据样本数\n",
    "latent_samples = torch.randn(num_samples, input_dim)\n",
    "generated_data = generator(latent_samples).detach().numpy()\n",
    "\n",
    "# 转换为 DataFrame 格式\n",
    "df_generated = pd.DataFrame(generated_data, columns=df.columns)\n",
    "# df_generated.to_csv('synthetic_data.csv', index=False)\n",
    "\n"
   ]
  },
  {
   "cell_type": "code",
   "execution_count": 146,
   "metadata": {},
   "outputs": [
    {
     "data": {
      "text/plain": [
       "size                                                                               int64\n",
       "beginning year                                                                   float64\n",
       "GFA                                                                              float64\n",
       "AC percent                                                                       float64\n",
       "monthly occupation rate                                                          float64\n",
       "number of hotel rooms                                                            float64\n",
       "age of chiller                                                                   float64\n",
       "AC efficiency                                                                    float64\n",
       "LED percent                                                                      float64\n",
       "Use of PV                                                                          int64\n",
       "2017EUI                                                                          float64\n",
       "2018EUI                                                                          float64\n",
       "2019EUI                                                                          float64\n",
       "2020EUI                                                                          float64\n",
       "main function_Hotel                                                                int32\n",
       "main function_Mixed Development                                                    int32\n",
       "main function_Office                                                               int32\n",
       "main function_Retail                                                               int32\n",
       "green mark rating_Certified                                                        int32\n",
       "green mark rating_Gold                                                             int32\n",
       "green mark rating_GoldPlus                                                         int32\n",
       "green mark rating_Legislated                                                       int32\n",
       "green mark rating_Platinum                                                         int32\n",
       "green mark rating_Unknown                                                          int32\n",
       "green mark type_Existing Building (version 2)                                      int32\n",
       "green mark type_Existing Building for Non-Residential buildings (version 2.1)      int32\n",
       "green mark type_Existing Building for Non-Residential buildings (version 3)        int32\n",
       "green mark type_Existing Non-Residental Buildings ENRB: 2017                       int32\n",
       "green mark type_New Building (version 1)                                           int32\n",
       "green mark type_New Building for A/C buildings (version 2)                         int32\n",
       "green mark type_New Building for Non-Residential buildings (version 3)             int32\n",
       "green mark type_New Building for Non-Residential buildings (version 4)             int32\n",
       "green mark type_New Building for Non-Residential buildings (version 4.1)           int32\n",
       "green mark type_Non-Residential Buildings NRB: 2015                                int32\n",
       "AC type_Air Cooled Chilled Water Plant                                             int32\n",
       "AC type_District Cooling Plant                                                     int32\n",
       "AC type_Others                                                                     int32\n",
       "AC type_Water Cooled Chilled Water Plant                                           int32\n",
       "AC type_Water Cooled Packaged Unit                                                 int32\n",
       "dtype: object"
      ]
     },
     "execution_count": 146,
     "metadata": {},
     "output_type": "execute_result"
    }
   ],
   "source": [
    "df3 = df2.astype({col: 'int' for col in df2.select_dtypes('bool').columns})\n",
    "df3.dtypes"
   ]
  }
 ],
 "metadata": {
  "kernelspec": {
   "display_name": "base",
   "language": "python",
   "name": "python3"
  },
  "language_info": {
   "codemirror_mode": {
    "name": "ipython",
    "version": 3
   },
   "file_extension": ".py",
   "mimetype": "text/x-python",
   "name": "python",
   "nbconvert_exporter": "python",
   "pygments_lexer": "ipython3",
   "version": "3.12.4"
  }
 },
 "nbformat": 4,
 "nbformat_minor": 2
}
